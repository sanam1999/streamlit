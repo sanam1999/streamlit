{
 "cells": [
  {
   "cell_type": "code",
   "execution_count": null,
   "id": "a00527fe",
   "metadata": {},
   "outputs": [
    {
     "name": "stdout",
     "output_type": "stream",
     "text": [
      "               Model  Test MSE   Test R2\n",
      "0  Linear Regression  1.384431 -0.003271\n",
      "1      Random Forest  1.384965 -0.003658\n",
      "\n",
      "✅ Best model: Linear Regression\n",
      "✅ Best model saved as model.pkl\n"
     ]
    },
    {
     "name": "stderr",
     "output_type": "stream",
     "text": [
      "/var/folders/c9/zcm8ktc57tl4cds3b02qzd300000gn/T/ipykernel_3884/1803009108.py:17: FutureWarning: A value is trying to be set on a copy of a DataFrame or Series through chained assignment using an inplace method.\n",
      "The behavior will change in pandas 3.0. This inplace method will never work because the intermediate object on which we are setting values always behaves as a copy.\n",
      "\n",
      "For example, when doing 'df[col].method(value, inplace=True)', try using 'df.method({col: value}, inplace=True)' or df[col] = df[col].method(value) instead, to perform the operation inplace on the original object.\n",
      "\n",
      "\n",
      "  data[col].fillna(data[col].mean(), inplace=True)\n"
     ]
    }
   ],
   "source": [
    "import pandas as pd\n",
    "import pickle\n",
    "from sklearn.model_selection import train_test_split\n",
    "from sklearn.linear_model import LinearRegression\n",
    "from sklearn.ensemble import RandomForestRegressor\n",
    "from sklearn.metrics import mean_squared_error, r2_score\n",
    "from sklearn.preprocessing import LabelEncoder\n",
    "\n",
    "data = pd.read_csv('/Users/sanams/Downloads/jobt_Test/data/dataset.csv.csv')\n",
    "\n",
    "for col in data.columns:\n",
    "    if data[col].dtype == 'object':\n",
    "        data[col].fillna(data[col].mode()[0], inplace=True)\n",
    "    else:\n",
    "        data[col].fillna(data[col].mean(), inplace=True)\n",
    "\n",
    "label_encoders = {}\n",
    "for col in ['Gender', 'Field_of_Study']:\n",
    "    le = LabelEncoder()\n",
    "    data[col] = le.fit_transform(data[col])\n",
    "    label_encoders[col] = le\n",
    "\n",
    "with open('../label_encoders.pkl', 'wb') as f:\n",
    "    pickle.dump(label_encoders, f)\n",
    "\n",
    "feature_order = [\"University_Ranking\", \"University_GPA\", \"Field_of_Study\",\n",
    "                 \"Projects_Completed\", \"Internships_Completed\", \"Certifications\"]\n",
    "X = data[feature_order]\n",
    "y = data['Current_Job_Level']\n",
    "\n",
    "with open('../feature_order.pkl', 'wb') as f:\n",
    "    pickle.dump(feature_order, f)\n",
    "\n",
    "X_train, X_test, y_train, y_test = train_test_split(X, y, test_size=0.25, random_state=100)\n",
    "\n",
    "lr = LinearRegression()\n",
    "lr.fit(X_train, y_train)\n",
    "\n",
    "rf = RandomForestRegressor(random_state=42, max_depth=2)\n",
    "rf.fit(X_train, y_train)\n",
    "\n",
    "models = {'Linear Regression': lr, 'Random Forest': rf}\n",
    "results = []\n",
    "\n",
    "for name, model in models.items():\n",
    "    y_pred = model.predict(X_test)\n",
    "    mse = mean_squared_error(y_test, y_pred)\n",
    "    r2 = r2_score(y_test, y_pred)\n",
    "    results.append({'Model': name, 'Test MSE': mse, 'Test R2': r2})\n",
    "\n",
    "results_df = pd.DataFrame(results)\n",
    "print(results_df)\n",
    "\n",
    "best_model_name = results_df.loc[results_df['Test MSE'].idxmin(), 'Model']\n",
    "print(f\"\\n✅ Best model: {best_model_name}\")\n",
    "best_model = models[best_model_name]\n",
    "\n",
    "with open('../model.pkl', 'wb') as f:\n",
    "    pickle.dump(best_model, f)\n",
    "\n",
    "print(\"✅ Best model saved as model.pkl\")\n"
   ]
  }
 ],
 "metadata": {
  "kernelspec": {
   "display_name": "base",
   "language": "python",
   "name": "python3"
  },
  "language_info": {
   "codemirror_mode": {
    "name": "ipython",
    "version": 3
   },
   "file_extension": ".py",
   "mimetype": "text/x-python",
   "name": "python",
   "nbconvert_exporter": "python",
   "pygments_lexer": "ipython3",
   "version": "3.12.7"
  }
 },
 "nbformat": 4,
 "nbformat_minor": 5
}
